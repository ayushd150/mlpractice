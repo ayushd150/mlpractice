{
 "cells": [
  {
   "cell_type": "code",
   "execution_count": 1,
   "id": "8da7cc9a",
   "metadata": {},
   "outputs": [],
   "source": [
    "import pandas"
   ]
  },
  {
   "cell_type": "markdown",
   "id": "1dce7ba2",
   "metadata": {},
   "source": [
    "filtering data"
   ]
  },
  {
   "cell_type": "code",
   "execution_count": null,
   "id": "0fc52088",
   "metadata": {},
   "outputs": [],
   "source": [
    "df.head()\n",
    "df.tail()\n",
    "\n",
    "df[df['Category']=='electronics']\n",
    "\n",
    "df[(df['category']=='clothing')&(df['Poductname']=='shoes')]"
   ]
  }
 ],
 "metadata": {
  "kernelspec": {
   "display_name": ".venv",
   "language": "python",
   "name": "python3"
  },
  "language_info": {
   "codemirror_mode": {
    "name": "ipython",
    "version": 3
   },
   "file_extension": ".py",
   "mimetype": "text/x-python",
   "name": "python",
   "nbconvert_exporter": "python",
   "pygments_lexer": "ipython3",
   "version": "3.13.3"
  }
 },
 "nbformat": 4,
 "nbformat_minor": 5
}
