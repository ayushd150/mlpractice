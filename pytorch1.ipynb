{
 "cells": [
  {
   "cell_type": "code",
   "execution_count": 5,
   "id": "8df8514b",
   "metadata": {},
   "outputs": [
    {
     "name": "stdout",
     "output_type": "stream",
     "text": [
      "PyTorch Version: 2.8.0+cpu\n"
     ]
    }
   ],
   "source": [
    "# Import the PyTorch library\n",
    "# PyTorch is the primary library for tensor operations and deep learning\n",
    "import torch\n",
    "\n",
    "# Display the PyTorch version\n",
    "# This is crucial for ensuring compatibility with code examples\n",
    "# Different PyTorch versions may have slight API differences\n",
    "print(f\"PyTorch Version: {torch.__version__}\")"
   ]
  },
  {
   "cell_type": "code",
   "execution_count": 6,
   "id": "67ab8856",
   "metadata": {},
   "outputs": [
    {
     "name": "stdout",
     "output_type": "stream",
     "text": [
      "Numpy version: 2.3.3\n",
      "Matplotlib version: 3.10.7\n"
     ]
    }
   ],
   "source": [
    "import numpy as np\n",
    "import matplotlib.pyplot as plt\n",
    "import matplotlib\n",
    "print(f\"Numpy version: {np.__version__}\")\n",
    "print(f\"Matplotlib version: {matplotlib.__version__}\")"
   ]
  },
  {
   "cell_type": "code",
   "execution_count": 7,
   "id": "c1578b97",
   "metadata": {},
   "outputs": [
    {
     "name": "stdout",
     "output_type": "stream",
     "text": [
      "CUDA available: False\n"
     ]
    }
   ],
   "source": [
    "# Check if CUDA (GPU support) is available\n",
    "print(f\"CUDA available: {torch.cuda.is_available()}\")\n",
    "\n",
    "# If CUDA is available, display information about the GPU\n",
    "if torch.cuda.is_available():\n",
    "    print(f\"Current CUDA device: {torch.cuda.current_device()}\")\n",
    "    print(f\"Device name: {torch.cuda.get_device_name(0)}\")\n",
    "    print(f\"Device capabilities: CUDA {torch.cuda.get_device_capability(0)}\")\n",
    "    print(f\"Device properties: {torch.cuda.get_device_properties(0)}\")\n"
   ]
  },
  {
   "cell_type": "code",
   "execution_count": 8,
   "id": "6d289205",
   "metadata": {},
   "outputs": [
    {
     "name": "stdout",
     "output_type": "stream",
     "text": [
      "Pytorch Version: 2.8.0+cpu\n"
     ]
    }
   ],
   "source": [
    "import torch\n",
    "import numpy as np\n",
    "print(f\"Pytorch Version: {torch.__version__}\")"
   ]
  },
  {
   "cell_type": "code",
   "execution_count": 9,
   "id": "bd9a2475",
   "metadata": {},
   "outputs": [
    {
     "name": "stdout",
     "output_type": "stream",
     "text": [
      "Scalar: 7, shape: torch.Size([]), dimensions: 0\n",
      "Vector: tensor([1, 2, 3, 4, 5]), shape: torch.Size([5]), dimensions: 1\n",
      "Matrix: tensor([[1, 2, 3],\n",
      "        [4, 5, 6],\n",
      "        [7, 8, 9]]), shape: torch.Size([3, 3]), dimensions: 2\n",
      "3d tensor: tensor([[[1, 2],\n",
      "         [3, 4]],\n",
      "\n",
      "        [[5, 6],\n",
      "         [7, 8]]]), shape: torch.Size([2, 2, 2]), dimensions: 3\n"
     ]
    }
   ],
   "source": [
    "scalar_tensor = torch.tensor(7) #Scalar(0-d)\n",
    "vector_tensor = torch.tensor([1,2,3,4,5]) #vector(1-d)\n",
    "matrix_tensor = torch.tensor([[1,2,3],[4,5,6],[7,8,9]]) #matrix(2-d)\n",
    "tensor_3d = torch.tensor([[[1,2],[3,4]],[[5,6],[7,8]]])\n",
    "print(f\"Scalar: {scalar_tensor}, shape: {scalar_tensor.shape}, dimensions: {scalar_tensor.dim()}\")\n",
    "print(f\"Vector: {vector_tensor}, shape: {vector_tensor.shape}, dimensions: {vector_tensor.dim()}\")\n",
    "print(f\"Matrix: {matrix_tensor}, shape: {matrix_tensor.shape}, dimensions: {matrix_tensor.dim()}\")\n",
    "print(f\"3d tensor: {tensor_3d}, shape: {tensor_3d.shape}, dimensions: {tensor_3d.dim()}\")"
   ]
  },
  {
   "cell_type": "code",
   "execution_count": 10,
   "id": "23abd598",
   "metadata": {},
   "outputs": [],
   "source": [
    "float_tensor = torch.tensor([1.0,2.0])"
   ]
  },
  {
   "cell_type": "code",
   "execution_count": 11,
   "id": "b8094c75",
   "metadata": {},
   "outputs": [
    {
     "name": "stdout",
     "output_type": "stream",
     "text": [
      "Float32 tensor: torch.float32, bytes per element: 4\n",
      "Float64 tensor: torch.float64, bytes per element: 8\n",
      "Int32 tensor: torch.int32, bytes per element: 4\n",
      "Int64 tensor: torch.int64, bytes per element: 8\n",
      "Boolean tensor: torch.int32, bytes per element: 4\n"
     ]
    }
   ],
   "source": [
    "# Create tensors with specified data types\n",
    "\n",
    "# Float tensor (default is float32)\n",
    "float_tensor = torch.tensor([1.0, 2.0, 3.0], dtype=torch.float32)\n",
    "\n",
    "# Double-precision float tensor\n",
    "double_tensor = torch.tensor([1.0, 2.0, 3.0], dtype=torch.float64)\n",
    "\n",
    "# Integer tensor\n",
    "int_tensor = torch.tensor([1, 2, 3], dtype=torch.int32)\n",
    "\n",
    "# Long integer tensor\n",
    "long_tensor = torch.tensor([1, 2, 3], dtype=torch.int64)\n",
    "\n",
    "# Boolean tensor\n",
    "bool_tensor = torch.tensor([1, 0, 1], dtype=torch.int32)\n",
    "\n",
    "# Print data types and memory usage\n",
    "print(f\"Float32 tensor: {float_tensor.dtype}, bytes per element: {float_tensor.element_size()}\")\n",
    "print(f\"Float64 tensor: {double_tensor.dtype}, bytes per element: {double_tensor.element_size()}\")\n",
    "print(f\"Int32 tensor: {int_tensor.dtype}, bytes per element: {int_tensor.element_size()}\")\n",
    "print(f\"Int64 tensor: {long_tensor.dtype}, bytes per element: {long_tensor.element_size()}\")\n",
    "print(f\"Boolean tensor: {bool_tensor.dtype}, bytes per element: {bool_tensor.element_size()}\")\n"
   ]
  },
  {
   "cell_type": "code",
   "execution_count": 13,
   "id": "6e93c029",
   "metadata": {},
   "outputs": [
    {
     "name": "stdout",
     "output_type": "stream",
     "text": [
      "numpy array:\n",
      "[[1 2 3]\n",
      " [4 5 6]]\n",
      "dtype: int64\n",
      "pytorch tensor from numpy:\n",
      "tensor([[1, 2, 3],\n",
      "        [4, 5, 6]])\n",
      "dtype: torch.int64\n",
      "\n",
      "after modifying numpy array:\n",
      "numpy array:\n",
      "[[100   2   3]\n",
      " [  4   5   6]]\n",
      "pytorch tensor:\n",
      "tensor([[100,   2,   3],\n",
      "        [  4,   5,   6]])\n"
     ]
    }
   ],
   "source": [
    "np_array = np.array([[1,2,3],[4,5,6]])\n",
    "tensor_from_numpy = torch.from_numpy(np_array)\n",
    "print(f\"numpy array:\\n{np_array}\\ndtype: {np_array.dtype}\")\n",
    "print(f\"pytorch tensor from numpy:\\n{tensor_from_numpy}\\ndtype: {tensor_from_numpy.dtype}\")\n",
    "np_array[0,0] = 100\n",
    "print(f\"\\nafter modifying numpy array:\")\n",
    "print(f\"numpy array:\\n{np_array}\")\n",
    "print(f\"pytorch tensor:\\n{tensor_from_numpy}\")"
   ]
  },
  {
   "cell_type": "code",
   "execution_count": null,
   "id": "36fcf806",
   "metadata": {},
   "outputs": [
    {
     "name": "stdout",
     "output_type": "stream",
     "text": [
      "zeros tensor:\n",
      "tensor([[0., 0., 0.],\n",
      "        [0., 0., 0.],\n",
      "        [0., 0., 0.]])\n",
      "ones tensor:\n",
      "tensor([[1., 1., 1., 1.],\n",
      "        [1., 1., 1., 1.]])\n",
      "empty tensor:\n",
      "tensor([[2.0783e+00, 1.9156e-42, 0.0000e+00, 0.0000e+00],\n",
      "        [0.0000e+00, 0.0000e+00, 0.0000e+00, 0.0000e+00]])\n",
      "tensor filled with 42:\n",
      "tensor([[42, 42],\n",
      "        [42, 42],\n",
      "        [42, 42]])\n"
     ]
    }
   ],
   "source": [
    "zeros_tensor = torch.zeros(3,3)\n",
    "ones_tensor = torch.ones(2,4)\n",
    "empty_tensor = torch.empty(2,4) #wharever values are in memory\n",
    "filled_tensor = torch.full((3,2), 42)\n",
    "print(f\"zeros tensor:\\n{zeros_tensor}\")\n",
    "print(f\"ones tensor:\\n{ones_tensor}\")\n",
    "print(f\"empty tensor:\\n{empty_tensor}\")\n",
    "print(f\"tensor filled with 42:\\n{filled_tensor}\")"
   ]
  },
  {
   "cell_type": "code",
   "execution_count": 19,
   "id": "09aaa7ee",
   "metadata": {},
   "outputs": [
    {
     "name": "stdout",
     "output_type": "stream",
     "text": [
      "tensor([10, 20, 30, 40, 50])\n",
      "vector tensor:tensor([1, 2, 3, 4, 5])\n"
     ]
    }
   ],
   "source": [
    "import torch\n",
    "\n",
    "# create a tensor\n",
    "tensor = torch.tensor([1, 2, 3, 4, 5])\n",
    "\n",
    "# now multiply it by 10\n",
    "result = torch.multiply(tensor, 10)\n",
    "\n",
    "print(result)\n",
    "print(f\"vector tensor:{tensor}\")"
   ]
  },
  {
   "cell_type": "code",
   "execution_count": null,
   "id": "5fea7447",
   "metadata": {},
   "outputs": [],
   "source": []
  }
 ],
 "metadata": {
  "kernelspec": {
   "display_name": ".venv",
   "language": "python",
   "name": "python3"
  },
  "language_info": {
   "codemirror_mode": {
    "name": "ipython",
    "version": 3
   },
   "file_extension": ".py",
   "mimetype": "text/x-python",
   "name": "python",
   "nbconvert_exporter": "python",
   "pygments_lexer": "ipython3",
   "version": "3.13.3"
  }
 },
 "nbformat": 4,
 "nbformat_minor": 5
}
