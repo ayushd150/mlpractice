{
 "cells": [
  {
   "cell_type": "code",
   "execution_count": 7,
   "id": "8df8514b",
   "metadata": {},
   "outputs": [
    {
     "ename": "ModuleNotFoundError",
     "evalue": "No module named 'torch'",
     "output_type": "error",
     "traceback": [
      "\u001b[31m---------------------------------------------------------------------------\u001b[39m",
      "\u001b[31mModuleNotFoundError\u001b[39m                       Traceback (most recent call last)",
      "\u001b[36mCell\u001b[39m\u001b[36m \u001b[39m\u001b[32mIn[7]\u001b[39m\u001b[32m, line 3\u001b[39m\n\u001b[32m      1\u001b[39m \u001b[38;5;66;03m# Import the PyTorch library\u001b[39;00m\n\u001b[32m      2\u001b[39m \u001b[38;5;66;03m# PyTorch is the primary library for tensor operations and deep learning\u001b[39;00m\n\u001b[32m----> \u001b[39m\u001b[32m3\u001b[39m \u001b[38;5;28;01mimport\u001b[39;00m\u001b[38;5;250m \u001b[39m\u001b[34;01mtorch\u001b[39;00m\n\u001b[32m      5\u001b[39m \u001b[38;5;66;03m# Display the PyTorch version\u001b[39;00m\n\u001b[32m      6\u001b[39m \u001b[38;5;66;03m# This is crucial for ensuring compatibility with code examples\u001b[39;00m\n\u001b[32m      7\u001b[39m \u001b[38;5;66;03m# Different PyTorch versions may have slight API differences\u001b[39;00m\n\u001b[32m      8\u001b[39m \u001b[38;5;28mprint\u001b[39m(\u001b[33mf\u001b[39m\u001b[33m\"\u001b[39m\u001b[33mPyTorch Version: \u001b[39m\u001b[38;5;132;01m{\u001b[39;00mtorch.__version__\u001b[38;5;132;01m}\u001b[39;00m\u001b[33m\"\u001b[39m)\n",
      "\u001b[31mModuleNotFoundError\u001b[39m: No module named 'torch'"
     ]
    }
   ],
   "source": [
    "# Import the PyTorch library\n",
    "# PyTorch is the primary library for tensor operations and deep learning\n",
    "import torch\n",
    "\n",
    "# Display the PyTorch version\n",
    "# This is crucial for ensuring compatibility with code examples\n",
    "# Different PyTorch versions may have slight API differences\n",
    "print(f\"PyTorch Version: {torch.__version__}\")"
   ]
  },
  {
   "cell_type": "code",
   "execution_count": null,
   "id": "67ab8856",
   "metadata": {},
   "outputs": [],
   "source": [
    "import numpy as np\n",
    "import matplotlib.pyplot as plt\n",
    "import matplotlib\n",
    "print(f\"Numpy version: {np.__version__}\")\n",
    "print(f\"Matplotlib version: {matplotlib.__version__}\")"
   ]
  },
  {
   "cell_type": "code",
   "execution_count": null,
   "id": "c1578b97",
   "metadata": {},
   "outputs": [],
   "source": [
    "# Check if CUDA (GPU support) is available\n",
    "print(f\"CUDA available: {torch.cuda.is_available()}\")\n",
    "\n",
    "# If CUDA is available, display information about the GPU\n",
    "if torch.cuda.is_available():\n",
    "    print(f\"Current CUDA device: {torch.cuda.current_device()}\")\n",
    "    print(f\"Device name: {torch.cuda.get_device_name(0)}\")\n",
    "    print(f\"Device capabilities: CUDA {torch.cuda.get_device_capability(0)}\")\n",
    "    print(f\"Device properties: {torch.cuda.get_device_properties(0)}\")\n"
   ]
  },
  {
   "cell_type": "code",
   "execution_count": null,
   "id": "6d289205",
   "metadata": {},
   "outputs": [],
   "source": [
    "import torch\n",
    "import numpy as np\n",
    "print(f\"Pytorch Version: {torch.__version__}\")"
   ]
  },
  {
   "cell_type": "code",
   "execution_count": null,
   "id": "bd9a2475",
   "metadata": {},
   "outputs": [],
   "source": [
    "scalar_tensor = torch.tensor(7) #Scalar(0-d)\n",
    "vector_tensor = torch.tensor([1,2,3,4,5]) #vector(1-d)\n",
    "matrix_tensor = torch.tensor([[1,2,3],[4,5,6],[7,8,9]]) #matrix(2-d)\n",
    "tensor_3d = torch.tensor([[[1,2],[3,4]],[[5,6],[7,8]]])\n",
    "print(f\"Scalar: {scalar_tensor}, shape: {scalar_tensor.shape}, dimensions: {scalar_tensor.dim()}\")\n",
    "print(f\"Vector: {vector_tensor}, shape: {vector_tensor.shape}, dimensions: {vector_tensor.dim()}\")\n",
    "print(f\"Matrix: {matrix_tensor}, shape: {matrix_tensor.shape}, dimensions: {matrix_tensor.dim()}\")\n",
    "print(f\"3d tensor: {tensor_3d}, shape: {tensor_3d.shape}, dimensions: {tensor_3d.dim()}\")"
   ]
  }
 ],
 "metadata": {
  "kernelspec": {
   "display_name": "Python 3",
   "language": "python",
   "name": "python3"
  },
  "language_info": {
   "codemirror_mode": {
    "name": "ipython",
    "version": 3
   },
   "file_extension": ".py",
   "mimetype": "text/x-python",
   "name": "python",
   "nbconvert_exporter": "python",
   "pygments_lexer": "ipython3",
   "version": "3.11.5"
  }
 },
 "nbformat": 4,
 "nbformat_minor": 5
}
